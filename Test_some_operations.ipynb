{
 "cells": [
  {
   "cell_type": "markdown",
   "id": "e75a2b9a-702c-4d79-a3cc-2d9bfa43b871",
   "metadata": {},
   "source": [
    "Test some Operations"
   ]
  },
  {
   "cell_type": "code",
   "execution_count": 10,
   "id": "8c902dee-ed12-424a-8c43-f640d914d155",
   "metadata": {
    "tags": []
   },
   "outputs": [
    {
     "data": {
      "text/plain": [
       "6"
      ]
     },
     "execution_count": 10,
     "metadata": {},
     "output_type": "execute_result"
    }
   ],
   "source": [
    "3+3"
   ]
  },
  {
   "cell_type": "code",
   "execution_count": 9,
   "id": "cb9e0189-3c6c-4993-8f41-af0b0f7a344c",
   "metadata": {},
   "outputs": [
    {
     "name": "stdout",
     "output_type": "stream",
     "text": [
      "Hello\n"
     ]
    }
   ],
   "source": [
    "print(\"Hello\")"
   ]
  },
  {
   "cell_type": "code",
   "execution_count": 11,
   "id": "30357e07-cce9-4667-8e06-738c4be7e251",
   "metadata": {},
   "outputs": [
    {
     "name": "stdout",
     "output_type": "stream",
     "text": [
      "5\n"
     ]
    }
   ],
   "source": [
    "one=2\n",
    "two =3\n",
    "print(one+two)"
   ]
  },
  {
   "cell_type": "code",
   "execution_count": null,
   "id": "371924f3-cc57-4b92-88d4-1b74a4a926fa",
   "metadata": {},
   "outputs": [],
   "source": []
  }
 ],
 "metadata": {
  "kernelspec": {
   "display_name": "Python",
   "language": "python",
   "name": "conda-env-python-py"
  },
  "language_info": {
   "codemirror_mode": {
    "name": "ipython",
    "version": 3
   },
   "file_extension": ".py",
   "mimetype": "text/x-python",
   "name": "python",
   "nbconvert_exporter": "python",
   "pygments_lexer": "ipython3",
   "version": "3.6.13"
  }
 },
 "nbformat": 4,
 "nbformat_minor": 5
}
